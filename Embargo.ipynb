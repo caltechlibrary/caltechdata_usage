{
 "cells": [
  {
   "cell_type": "code",
   "execution_count": 1,
   "id": "5ad5e84b-8195-4cae-bcca-569604bb5e64",
   "metadata": {},
   "outputs": [
    {
     "name": "stderr",
     "output_type": "stream",
     "text": [
      "100% (3 of 3) |##########################| Elapsed Time: 0:00:11 Time:  0:00:11\n",
      "100% (2030 of 2030) |####################| Elapsed Time: 0:00:22 Time:  0:00:22\n"
     ]
    }
   ],
   "source": [
    "#Get metadata from CaltechDATA\n",
    "\n",
    "import os\n",
    "from ames.harvesters import get_caltechdata\n",
    "\n",
    "if os.path.isdir('data') == False:\n",
    "    os.mkdir('data')\n",
    "os.chdir('data')\n",
    "\n",
    "production = True\n",
    "collection = 'caltechdata.ds'\n",
    "\n",
    "get_caltechdata(collection,production)"
   ]
  },
  {
   "cell_type": "code",
   "execution_count": 2,
   "id": "c923b73e-f365-43ac-98d2-12c60da6606b",
   "metadata": {},
   "outputs": [],
   "source": [
    "from ames.harvesters import get_records\n",
    "from py_dataset import dataset\n",
    "\n",
    "# Get the metadata we're interested in\n",
    "\n",
    "dot_paths = ['._Key','.electronic_location_and_access']\n",
    "keys = dataset.keys(collection)\n",
    "all_metadata = get_records(dot_paths,'frame',collection,keys)"
   ]
  },
  {
   "cell_type": "code",
   "execution_count": 3,
   "id": "dc50fd6c-77d7-49c9-b4f8-7702ac6ea860",
   "metadata": {},
   "outputs": [
    {
     "name": "stdout",
     "output_type": "stream",
     "text": [
      "8965\n",
      "embargoed\n",
      "2209\n",
      "embargoed\n",
      "1705\n",
      "embargoed\n",
      "2208\n",
      "embargoed\n"
     ]
    }
   ],
   "source": [
    "openr = 0\n",
    "for record in all_metadata:\n",
    "    if 'electronic_location_and_access' in record:\n",
    "        status = record['electronic_location_and_access'][0]['embargo_status']\n",
    "        if status == 'open':\n",
    "            openr += 1\n",
    "        elif status == '{{embargo_status}}':\n",
    "            openr += 1\n",
    "        else:\n",
    "            print(record['_Key'])\n",
    "            print(status)"
   ]
  },
  {
   "cell_type": "code",
   "execution_count": null,
   "id": "ff32e3c4-dad5-4802-8595-34c567fb93c2",
   "metadata": {},
   "outputs": [],
   "source": []
  }
 ],
 "metadata": {
  "kernelspec": {
   "display_name": "Python 3 (ipykernel)",
   "language": "python",
   "name": "python3"
  },
  "language_info": {
   "codemirror_mode": {
    "name": "ipython",
    "version": 3
   },
   "file_extension": ".py",
   "mimetype": "text/x-python",
   "name": "python",
   "nbconvert_exporter": "python",
   "pygments_lexer": "ipython3",
   "version": "3.9.9"
  }
 },
 "nbformat": 4,
 "nbformat_minor": 5
}
