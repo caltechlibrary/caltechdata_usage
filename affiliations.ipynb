{
 "cells": [
  {
   "cell_type": "code",
   "execution_count": 1,
   "id": "d29ec16b-d5b3-4f6c-bddb-9be8968a16d4",
   "metadata": {},
   "outputs": [
    {
     "name": "stderr",
     "output_type": "stream",
     "text": [
      "100% (3 of 3) |##########################| Elapsed Time: 0:00:21 Time:  0:00:21\n",
      "100% (2198 of 2198) |####################| Elapsed Time: 0:00:25 Time:  0:00:25\n"
     ]
    },
    {
     "name": "stdout",
     "output_type": "stream",
     "text": [
      "No publication date set - something is odd with the record  {'_form_uuid': 'beae3039-29ed-4e20-bd21-6ed6e994afa5', '_oai': {'id': 'oai:data.caltech.edu:recid/20188', 'updated': '2022-06-06T15:48:02Z'}, 'access_right': 'open', 'authors': [{'authorAffiliation': 'Caltech', 'authorIdentifiers': [{'authorIdentifier': '0000-0003-4086-3508', 'authorIdentifierScheme': 'ORCID'}], 'authorName': 'Ylitalo, Andrew S.'}], 'brief_authors': \"<a href='/search?q=Ylitalo, Andrew S.'>Ylitalo, Andrew S.</a>\", 'brief_information_bar': [{'icon': 'tag-1', 'text': 'Dataset'}], 'brief_subtitle': '', 'brief_summary': '', 'brief_title': 'Polyol - CO2 Thermophysical Measurements and Predictions', 'control_number': '20188', 'descriptions': [{'descriptionType': 'Other', 'descriptionValue': 'Contains processed measurements of specific volume, diffusivity, CO2 solubility, and interfacial tension between a polyol-rich phase and a CO2-rich phase in a two-phase equilibrium of polyol and CO2.'}], 'fundingReferences': [{'awardNumber': {'awardNumber': 'UPI'}, 'funderName': 'Dow, Inc.'}, {'awardNumber': {'awardNumber': 'DGE‐1745301'}, 'funderName': 'National Science Foundation Graduate Research Fellowship Program'}], 'language': 'eng', 'owners': [433], 'pid_value': '20188', 'resourceType': {'resourceTypeGeneral': 'Dataset'}, 'resource_type': {'color': '#2980BA', 'icon': 'dataset', 'title': 'Dataset'}, 'rightsList': {'rights': 'cc-by-nc-4.0', 'rightsURI': 'https://creativecommons.org/licenses/by-nc/4.0/'}, 'subjects': [{'subject': 'polyol'}, {'subject': 'CO2'}, {'subject': 'DFT'}, {'subject': 'PC-SAFT'}, {'subject': 'solubility'}, {'subject': 'interfacial tension'}, {'subject': 'specific volume'}, {'subject': 'density'}, {'subject': 'diffusivity'}], 'version': '0.1', 'titles': [{'title': 'Polyol - CO2 Thermophysical Measurements and Predictions'}], 'formats': ['CSV', 'DAT']}\n",
      "No publication date set - something is odd with the record  {'_form_uuid': 'beae3039-29ed-4e20-bd21-6ed6e994afa5', '_oai': {'id': 'oai:data.caltech.edu:recid/20187', 'updated': '2022-06-06T15:47:20Z'}, 'access_right': 'open', 'authors': [{'authorAffiliation': 'Caltech', 'authorIdentifiers': [{'authorIdentifier': '0000-0003-4086-3508', 'authorIdentifierScheme': 'ORCID'}], 'authorName': 'Ylitalo, Andrew S.'}], 'brief_authors': \"<a href='/search?q=Ylitalo, Andrew S.'>Ylitalo, Andrew S.</a>\", 'brief_information_bar': [{'icon': 'tag-1', 'text': 'Dataset'}], 'brief_subtitle': '', 'brief_summary': '', 'brief_title': 'Polyol - CO2 Thermophysical Measurements and Predictions', 'control_number': '20187', 'descriptions': [{'descriptionType': 'Other', 'descriptionValue': 'Contains processed measurements of specific volume, diffusivity, CO2 solubility, and interfacial tension between a polyol-rich phase and a CO2-rich phase in a two-phase equilibrium of polyol and CO2.'}], 'fundingReferences': [{'awardNumber': {'awardNumber': 'UPI'}, 'funderName': 'Dow, Inc.'}, {'awardNumber': {'awardNumber': 'DGE‐1745301'}, 'funderName': 'National Science Foundation Graduate Research Fellowship Program'}], 'language': 'eng', 'owners': [433], 'pid_value': '20187', 'resourceType': {'resourceTypeGeneral': 'Dataset'}, 'resource_type': {'color': '#2980BA', 'icon': 'dataset', 'title': 'Dataset'}, 'rightsList': {'rights': 'cc-by-nc-4.0', 'rightsURI': 'https://creativecommons.org/licenses/by-nc/4.0/'}, 'subjects': [{'subject': 'polyol'}, {'subject': 'CO2'}, {'subject': 'DFT'}, {'subject': 'PC-SAFT'}, {'subject': 'solubility'}, {'subject': 'interfacial tension'}, {'subject': 'specific volume'}, {'subject': 'density'}, {'subject': 'diffusivity'}], 'version': '0.1', 'titles': [{'title': 'Polyol - CO2 Thermophysical Measurements and Predictions'}], 'formats': ['CSV', 'DAT']}\n"
     ]
    }
   ],
   "source": [
    "#Get metadata from CaltechDATA\n",
    "\n",
    "import os\n",
    "from ames.harvesters import get_caltechdata\n",
    "\n",
    "if os.path.isdir('data') == False:\n",
    "    os.mkdir('data')\n",
    "os.chdir('data')\n",
    "\n",
    "production = True\n",
    "collection = 'caltechdata.ds'\n",
    "\n",
    "get_caltechdata(collection,production)"
   ]
  },
  {
   "cell_type": "code",
   "execution_count": 16,
   "id": "d0fa8940-d625-4f09-8744-2aa80caaf7be",
   "metadata": {},
   "outputs": [],
   "source": [
    "from ames.harvesters import get_records\n",
    "from py_dataset import dataset\n",
    "import csv\n",
    "\n",
    "dot_paths = ['._Key','.contributors','.creators']\n",
    "keys = dataset.keys(collection)\n",
    "metadata = get_records(dot_paths,'dois',collection,keys)\n",
    "\n",
    "all_aff= set()\n",
    "\n",
    "for record in metadata:\n",
    "    if 'creators' in record:\n",
    "        creators = record['creators']\n",
    "        for cre in creators:\n",
    "            if 'affiliations' in cre:\n",
    "                affiliations = cre['affiliations']\n",
    "                all_aff.update(affiliations)\n",
    "    if 'contributors' in record:\n",
    "        contributors = record['contributors']\n",
    "        for con in contributors:\n",
    "            if 'affiliations' in con:\n",
    "                affiliations = con['affiliations']\n",
    "                all_aff.update(affiliations)\n",
    "                \n",
    "with open(\"../affiliations.csv\", \"w\", newline=\"\", encoding=\"utf-8-sig\") as fout:\n",
    "    file_out = csv.writer(fout)\n",
    "    for aff in all_aff:\n",
    "        file_out.writerow([aff])"
   ]
  },
  {
   "cell_type": "code",
   "execution_count": null,
   "id": "fbfdc68c-2560-42bc-824f-21511fb1ede5",
   "metadata": {},
   "outputs": [],
   "source": []
  }
 ],
 "metadata": {
  "kernelspec": {
   "display_name": "Python 3 (ipykernel)",
   "language": "python",
   "name": "python3"
  },
  "language_info": {
   "codemirror_mode": {
    "name": "ipython",
    "version": 3
   },
   "file_extension": ".py",
   "mimetype": "text/x-python",
   "name": "python",
   "nbconvert_exporter": "python",
   "pygments_lexer": "ipython3",
   "version": "3.9.12"
  }
 },
 "nbformat": 4,
 "nbformat_minor": 5
}
