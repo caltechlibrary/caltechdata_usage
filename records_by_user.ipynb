{
 "cells": [
  {
   "cell_type": "code",
   "execution_count": 1,
   "id": "8ebe4626-8a25-442a-bb06-c0ae6e50e448",
   "metadata": {},
   "outputs": [
    {
     "name": "stderr",
     "output_type": "stream",
     "text": [
      "100% (3 of 3) |##########################| Elapsed Time: 0:00:14 Time:  0:00:14\n",
      "100% (2195 of 2195) |####################| Elapsed Time: 0:00:16 Time:  0:00:16\n"
     ]
    },
    {
     "name": "stdout",
     "output_type": "stream",
     "text": [
      "No publication date set - something is odd with the record  {'_form_uuid': 'beae3039-29ed-4e20-bd21-6ed6e994afa5', '_oai': {'id': 'oai:data.caltech.edu:recid/20188', 'updated': '2022-06-06T15:48:02Z'}, 'access_right': 'open', 'authors': [{'authorAffiliation': 'Caltech', 'authorIdentifiers': [{'authorIdentifier': '0000-0003-4086-3508', 'authorIdentifierScheme': 'ORCID'}], 'authorName': 'Ylitalo, Andrew S.'}], 'brief_authors': \"<a href='/search?q=Ylitalo, Andrew S.'>Ylitalo, Andrew S.</a>\", 'brief_information_bar': [{'icon': 'tag-1', 'text': 'Dataset'}], 'brief_subtitle': '', 'brief_summary': '', 'brief_title': 'Polyol - CO2 Thermophysical Measurements and Predictions', 'control_number': '20188', 'descriptions': [{'descriptionType': 'Other', 'descriptionValue': 'Contains processed measurements of specific volume, diffusivity, CO2 solubility, and interfacial tension between a polyol-rich phase and a CO2-rich phase in a two-phase equilibrium of polyol and CO2.'}], 'fundingReferences': [{'awardNumber': {'awardNumber': 'UPI'}, 'funderName': 'Dow, Inc.'}, {'awardNumber': {'awardNumber': 'DGE‐1745301'}, 'funderName': 'National Science Foundation Graduate Research Fellowship Program'}], 'language': 'eng', 'owners': [433], 'pid_value': '20188', 'resourceType': {'resourceTypeGeneral': 'Dataset'}, 'resource_type': {'color': '#2980BA', 'icon': 'dataset', 'title': 'Dataset'}, 'rightsList': {'rights': 'cc-by-nc-4.0', 'rightsURI': 'https://creativecommons.org/licenses/by-nc/4.0/'}, 'subjects': [{'subject': 'polyol'}, {'subject': 'CO2'}, {'subject': 'DFT'}, {'subject': 'PC-SAFT'}, {'subject': 'solubility'}, {'subject': 'interfacial tension'}, {'subject': 'specific volume'}, {'subject': 'density'}, {'subject': 'diffusivity'}], 'version': '0.1', 'titles': [{'title': 'Polyol - CO2 Thermophysical Measurements and Predictions'}], 'formats': ['CSV', 'DAT']}\n",
      "No publication date set - something is odd with the record  {'_form_uuid': 'beae3039-29ed-4e20-bd21-6ed6e994afa5', '_oai': {'id': 'oai:data.caltech.edu:recid/20187', 'updated': '2022-06-06T15:47:20Z'}, 'access_right': 'open', 'authors': [{'authorAffiliation': 'Caltech', 'authorIdentifiers': [{'authorIdentifier': '0000-0003-4086-3508', 'authorIdentifierScheme': 'ORCID'}], 'authorName': 'Ylitalo, Andrew S.'}], 'brief_authors': \"<a href='/search?q=Ylitalo, Andrew S.'>Ylitalo, Andrew S.</a>\", 'brief_information_bar': [{'icon': 'tag-1', 'text': 'Dataset'}], 'brief_subtitle': '', 'brief_summary': '', 'brief_title': 'Polyol - CO2 Thermophysical Measurements and Predictions', 'control_number': '20187', 'descriptions': [{'descriptionType': 'Other', 'descriptionValue': 'Contains processed measurements of specific volume, diffusivity, CO2 solubility, and interfacial tension between a polyol-rich phase and a CO2-rich phase in a two-phase equilibrium of polyol and CO2.'}], 'fundingReferences': [{'awardNumber': {'awardNumber': 'UPI'}, 'funderName': 'Dow, Inc.'}, {'awardNumber': {'awardNumber': 'DGE‐1745301'}, 'funderName': 'National Science Foundation Graduate Research Fellowship Program'}], 'language': 'eng', 'owners': [433], 'pid_value': '20187', 'resourceType': {'resourceTypeGeneral': 'Dataset'}, 'resource_type': {'color': '#2980BA', 'icon': 'dataset', 'title': 'Dataset'}, 'rightsList': {'rights': 'cc-by-nc-4.0', 'rightsURI': 'https://creativecommons.org/licenses/by-nc/4.0/'}, 'subjects': [{'subject': 'polyol'}, {'subject': 'CO2'}, {'subject': 'DFT'}, {'subject': 'PC-SAFT'}, {'subject': 'solubility'}, {'subject': 'interfacial tension'}, {'subject': 'specific volume'}, {'subject': 'density'}, {'subject': 'diffusivity'}], 'version': '0.1', 'titles': [{'title': 'Polyol - CO2 Thermophysical Measurements and Predictions'}], 'formats': ['CSV', 'DAT']}\n"
     ]
    }
   ],
   "source": [
    "#Get metadata from CaltechDATA\n",
    "\n",
    "import os\n",
    "from ames.harvesters import get_caltechdata\n",
    "\n",
    "if os.path.isdir('data') == False:\n",
    "    os.mkdir('data')\n",
    "os.chdir('data')\n",
    "\n",
    "production = True\n",
    "collection = 'caltechdata.ds'\n",
    "\n",
    "get_caltechdata(collection,production)"
   ]
  },
  {
   "cell_type": "code",
   "execution_count": 25,
   "id": "800f66ac-4bb5-461f-b124-b3471e5d1b89",
   "metadata": {},
   "outputs": [],
   "source": [
    "from ames.harvesters import get_records\n",
    "from py_dataset import dataset\n",
    "import csv\n",
    "\n",
    "user = 301\n",
    "\n",
    "dot_paths = ['._Key','.identifier','.owners','.titles','.subjects','.dates','.creators']\n",
    "keys = dataset.keys(collection)\n",
    "metadata = get_records(dot_paths,'dois',collection,keys)\n",
    "\n",
    "with open(\"../records.csv\", \"w\", newline=\"\", encoding=\"utf-8-sig\") as fout:\n",
    "    file_out = csv.writer(fout)\n",
    "    file_out.writerow(['DOI','date','title','creator'])\n",
    "    for record in metadata:\n",
    "        if 'owners' in record:\n",
    "            owner = record['owners'][0]\n",
    "            if record['owners'][0] == user:\n",
    "                doi = record['identifier']['identifier']\n",
    "                date = record['dates'][0]['date']\n",
    "                title = record['titles'][0]['title']\n",
    "                creator = record['creators'][0]['creatorName']\n",
    "                file_out.writerow([doi,date,title,creator])"
   ]
  },
  {
   "cell_type": "code",
   "execution_count": null,
   "id": "c0513ad0-2312-41a3-9301-3ff5d54693dd",
   "metadata": {},
   "outputs": [],
   "source": []
  }
 ],
 "metadata": {
  "kernelspec": {
   "display_name": "Python 3 (ipykernel)",
   "language": "python",
   "name": "python3"
  },
  "language_info": {
   "codemirror_mode": {
    "name": "ipython",
    "version": 3
   },
   "file_extension": ".py",
   "mimetype": "text/x-python",
   "name": "python",
   "nbconvert_exporter": "python",
   "pygments_lexer": "ipython3",
   "version": "3.9.12"
  }
 },
 "nbformat": 4,
 "nbformat_minor": 5
}
