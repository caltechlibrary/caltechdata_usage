{
 "cells": [
  {
   "cell_type": "code",
   "execution_count": 1,
   "id": "e5170d8d-efd6-4bda-8568-818ebb2abaab",
   "metadata": {},
   "outputs": [
    {
     "name": "stderr",
     "output_type": "stream",
     "text": [
      "100% (3 of 3) |##########################| Elapsed Time: 0:00:11 Time:  0:00:11\n",
      "100% (2030 of 2030) |####################| Elapsed Time: 0:00:22 Time:  0:00:22\n"
     ]
    }
   ],
   "source": [
    "import os\n",
    "from ames.harvesters import file_mapping, get_usage, build_usage\n",
    "from ames.harvesters import build_aggregate, aggregate_usage\n",
    "from ames.harvesters import get_caltechdata, get_history\n",
    "from ames.matchers import add_usage, submit_report\n",
    "\n",
    "if os.path.isdir(\"data\") == False:\n",
    "    os.mkdir(\"data\")\n",
    "os.chdir(\"data\")\n",
    "\n",
    "production = True\n",
    "collection = \"caltechdata.ds\"\n",
    "\n",
    "get_caltechdata(collection, production)\n",
    "mapping = file_mapping(collection)\n",
    "\n"
   ]
  },
  {
   "cell_type": "code",
   "execution_count": 6,
   "id": "7980d00e-5b5e-4e98-91d6-488625ed33ee",
   "metadata": {},
   "outputs": [],
   "source": [
    "import requests\n",
    "\n",
    "downloads = {}\n",
    "\n",
    "days = 1\n",
    "while days < 31:\n",
    "    response = requests.get(f'https://stats.tind.io/index.php?date=2021-12-{days:02}&expanded=1&filter_limit=-1&format=JSON&idSite=1161&method=Actions.getDownloads&module=API&period=day&segment=&token_auth=TOKEN')\n",
    "    for dl in response.json()[0]['subtable']:\n",
    "        unique = dl['nb_uniq_visitors']\n",
    "        idv = 'https://data.caltech.edu'+ dl['label']\n",
    "        if idv in mapping:\n",
    "            label = mapping[idv]\n",
    "            if label in downloads:\n",
    "                downloads[label] = downloads[label] + unique\n",
    "            else:\n",
    "                downloads[label] = unique\n",
    "    days = days + 1\n",
    "        \n",
    "#for d in downloads:\n",
    "#    print(d)\n",
    "#    print(downloads[d])"
   ]
  },
  {
   "cell_type": "code",
   "execution_count": 7,
   "id": "c92239e9-8618-4f8f-a4de-d796f89551b7",
   "metadata": {},
   "outputs": [
    {
     "name": "stdout",
     "output_type": "stream",
     "text": [
      "49\n",
      "134\n",
      "149\n",
      "420\n",
      "367\n",
      "0.08163265306122448\n",
      "0.029850746268656716\n",
      "0.11409395973154363\n",
      "0.08571428571428572\n",
      "0.10626702997275204\n"
     ]
    }
   ],
   "source": [
    "from ames.harvesters import get_records\n",
    "from py_dataset import dataset\n",
    "\n",
    "dot_paths = ['._Key','.publicationYear','.electronic_location_and_access']\n",
    "keys = dataset.keys(collection)\n",
    "all_metadata = get_records(dot_paths,'dois',collection,keys)\n",
    "\n",
    "rec_by_pub_year = {}\n",
    "dl_by_pub_year = {}\n",
    "\n",
    "for record in all_metadata:\n",
    "    key = record['_Key']\n",
    "    year = record['publicationYear']\n",
    "    if 'electronic_location_and_access' in record:\n",
    "        if year in rec_by_pub_year:\n",
    "            rec_by_pub_year[year] += 1\n",
    "        else:\n",
    "            rec_by_pub_year[year] = 1\n",
    "    if key in downloads:\n",
    "        if year in dl_by_pub_year:\n",
    "            dl_by_pub_year[year] += 1\n",
    "        else:\n",
    "            dl_by_pub_year[year] = 1\n",
    "\n",
    "print(rec_by_pub_year['2017'])\n",
    "print(rec_by_pub_year['2018'])\n",
    "print(rec_by_pub_year['2019'])\n",
    "print(rec_by_pub_year['2020'])\n",
    "print(rec_by_pub_year['2021'])\n",
    "print(dl_by_pub_year['2017']/rec_by_pub_year['2017'])\n",
    "print(dl_by_pub_year['2018']/rec_by_pub_year['2018'])\n",
    "print(dl_by_pub_year['2019']/rec_by_pub_year['2019'])\n",
    "print(dl_by_pub_year['2020']/rec_by_pub_year['2020'])\n",
    "print(dl_by_pub_year['2021']/rec_by_pub_year['2021'])        "
   ]
  },
  {
   "cell_type": "code",
   "execution_count": null,
   "id": "5fe66ac8-bbf5-4836-baf8-0dd842217162",
   "metadata": {},
   "outputs": [],
   "source": []
  }
 ],
 "metadata": {
  "kernelspec": {
   "display_name": "Python 3 (ipykernel)",
   "language": "python",
   "name": "python3"
  },
  "language_info": {
   "codemirror_mode": {
    "name": "ipython",
    "version": 3
   },
   "file_extension": ".py",
   "mimetype": "text/x-python",
   "name": "python",
   "nbconvert_exporter": "python",
   "pygments_lexer": "ipython3",
   "version": "3.9.9"
  }
 },
 "nbformat": 4,
 "nbformat_minor": 5
}
